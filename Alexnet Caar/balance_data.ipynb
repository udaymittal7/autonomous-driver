{
 "cells": [
  {
   "cell_type": "code",
   "execution_count": 1,
   "metadata": {},
   "outputs": [],
   "source": [
    "import numpy as np\n",
    "import pandas as pd\n",
    "from collections import Counter\n",
    "from random import shuffle"
   ]
  },
  {
   "cell_type": "code",
   "execution_count": 3,
   "metadata": {},
   "outputs": [],
   "source": [
    "train_data = np.load('training_data_take3.npy',allow_pickle=True)"
   ]
  },
  {
   "cell_type": "code",
   "execution_count": 4,
   "metadata": {},
   "outputs": [
    {
     "name": "stdout",
     "output_type": "stream",
     "text": [
      "                                                   0          1\n",
      "0  [[152, 158, 162, 167, 173, 177, 181, 184, 189,...  [1, 0, 0]\n",
      "1  [[95, 101, 161, 166, 171, 175, 180, 184, 189, ...  [1, 0, 0]\n",
      "2  [[74, 151, 102, 100, 169, 173, 177, 182, 188, ...  [1, 0, 0]\n",
      "3  [[74, 80, 121, 81, 103, 156, 176, 180, 186, 18...  [1, 0, 0]\n",
      "4  [[72, 77, 80, 81, 92, 107, 174, 180, 185, 188,...  [1, 0, 0]\n",
      "Counter({'[0, 1, 0]': 1742, '[0, 0, 1]': 148, '[1, 0, 0]': 110})\n"
     ]
    }
   ],
   "source": [
    "df = pd.DataFrame(train_data)\n",
    "print(df.head())\n",
    "print(Counter(df[1].apply(str)))"
   ]
  },
  {
   "cell_type": "code",
   "execution_count": 5,
   "metadata": {},
   "outputs": [],
   "source": [
    "lefts = []\n",
    "rights = []\n",
    "forwards = []\n",
    "\n",
    "shuffle(train_data)"
   ]
  },
  {
   "cell_type": "code",
   "execution_count": 6,
   "metadata": {},
   "outputs": [],
   "source": [
    "for data in train_data:\n",
    "    img = data[0]\n",
    "    choice = data[1]\n",
    "\n",
    "    if choice == [1,0,0]:\n",
    "        lefts.append([img,choice])\n",
    "    elif choice == [0,1,0]:\n",
    "        forwards.append([img,choice])\n",
    "    elif choice == [0,0,1]:\n",
    "        rights.append([img,choice])\n",
    "    else:\n",
    "        print('no matches')"
   ]
  },
  {
   "cell_type": "code",
   "execution_count": 7,
   "metadata": {},
   "outputs": [],
   "source": [
    "forwards = forwards[:len(lefts)][:len(rights)]\n",
    "lefts = lefts[:len(forwards)]\n",
    "rights = rights[:len(forwards)]"
   ]
  },
  {
   "cell_type": "code",
   "execution_count": 8,
   "metadata": {},
   "outputs": [],
   "source": [
    "final_data = forwards + lefts + rights\n",
    "shuffle(final_data)"
   ]
  },
  {
   "cell_type": "code",
   "execution_count": 9,
   "metadata": {},
   "outputs": [
    {
     "name": "stderr",
     "output_type": "stream",
     "text": [
      "C:\\Users\\user\\anaconda3\\envs\\diplab\\lib\\site-packages\\numpy\\core\\_asarray.py:136: VisibleDeprecationWarning: Creating an ndarray from ragged nested sequences (which is a list-or-tuple of lists-or-tuples-or ndarrays with different lengths or shapes) is deprecated. If you meant to do this, you must specify 'dtype=object' when creating the ndarray\n",
      "  return array(a, dtype, copy=False, order=order, subok=True)\n"
     ]
    }
   ],
   "source": [
    "np.save('training_data_take3.npy', final_data)"
   ]
  },
  {
   "cell_type": "code",
   "execution_count": null,
   "metadata": {},
   "outputs": [],
   "source": []
  }
 ],
 "metadata": {
  "kernelspec": {
   "display_name": "Python 3",
   "language": "python",
   "name": "python3"
  },
  "language_info": {
   "codemirror_mode": {
    "name": "ipython",
    "version": 3
   },
   "file_extension": ".py",
   "mimetype": "text/x-python",
   "name": "python",
   "nbconvert_exporter": "python",
   "pygments_lexer": "ipython3",
   "version": "3.7.9"
  }
 },
 "nbformat": 4,
 "nbformat_minor": 4
}
